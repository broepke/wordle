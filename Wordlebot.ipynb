{
 "cells": [
  {
   "cell_type": "code",
   "execution_count": 1,
   "metadata": {},
   "outputs": [],
   "source": [
    "import pandas as pd\n",
    "from collections import Counter\n",
    "import matplotlib.pyplot as plt"
   ]
  },
  {
   "cell_type": "code",
   "execution_count": 2,
   "metadata": {},
   "outputs": [
    {
     "name": "stdout",
     "output_type": "stream",
     "text": [
      "   Letter  Count\n",
      "9       s   6664\n",
      "5       e   6660\n",
      "3       a   5987\n",
      "18      o   4438\n",
      "4       r   4158\n",
      "1       i   3759\n",
      "16      l   3371\n",
      "8       t   3295\n",
      "21      n   2952\n",
      "7       u   2511\n",
      "20      d   2452\n",
      "10      y   2074\n",
      "0       c   2028\n",
      "13      p   2019\n",
      "12      m   1976\n",
      "11      h   1758\n",
      "2       g   1644\n",
      "6       b   1627\n",
      "15      k   1505\n",
      "17      f   1115\n",
      "14      w   1039\n",
      "19      v    693\n",
      "25      z    434\n",
      "23      j    291\n",
      "24      x    288\n",
      "22      q    112\n"
     ]
    }
   ],
   "source": [
    "# Read the list of five-letter words from the text file\n",
    "with open('words.txt', 'r') as file:\n",
    "    words = [line.strip() for line in file if len(line.strip()) == 5]\n",
    "\n",
    "# Count the frequency of each letter in the list of words\n",
    "letter_counts = Counter(\"\".join(words))\n",
    "\n",
    "# Convert the counter to a DataFrame for better visualization\n",
    "letter_counts_df = pd.DataFrame.from_dict(letter_counts, orient='index', columns=['Count']).reset_index()\n",
    "letter_counts_df = letter_counts_df.rename(columns={'index': 'Letter'}).sort_values(by='Count', ascending=False)\n",
    "\n",
    "# Display the DataFrame\n",
    "print(letter_counts_df)"
   ]
  },
  {
   "cell_type": "code",
   "execution_count": 3,
   "metadata": {},
   "outputs": [
    {
     "data": {
      "image/png": "[encoded data removed]",
      "text/plain": [
       "<Figure size 1000x600 with 1 Axes>"
      ]
     },
     "metadata": {},
     "output_type": "display_data"
    }
   ],
   "source": [
    "# Plot the letter frequencies\n",
    "plt.figure(figsize=(10, 6))\n",
    "plt.bar(letter_counts_df['Letter'], letter_counts_df['Count'])\n",
    "plt.xlabel('Letter')\n",
    "plt.ylabel('Count')\n",
    "plt.title('Letter Frequencies in Five-Letter Words')\n",
    "plt.show()"
   ]
  },
  {
   "cell_type": "markdown",
   "metadata": {},
   "source": [
    "## Use the Folling Input Format\n",
    "\n",
    "```\n",
    "criteria = {0: 's', 1: 'e'}\n",
    "exclude_letters = {'f', 'i', 'y', 'c', 'o'}\n",
    "exclude_positions_for_letters = {'e': [2], 'r': [4]}\n",
    "```"
   ]
  },
  {
   "cell_type": "code",
   "execution_count": 4,
   "metadata": {},
   "outputs": [
    {
     "name": "stdout",
     "output_type": "stream",
     "text": [
      "Letter frequencies: Counter({'o': 574, 'a': 565, 'y': 303, 'l': 282, 'n': 232, 't': 219, 'c': 194, 'p': 169, 'm': 164, 'b': 149, 'h': 148, 'g': 136, 'k': 107, 'w': 83, 'f': 65, 'z': 48, 'j': 34, 'v': 26, 'x': 18, 'q': 4})\n",
      "['booay', 'paolo', 'yahoo', 'moola', 'baloo', 'napoo', 'potoo', 'cocoa', 'cacao', 'taboo', 'loofa', 'ovolo', 'haoma', 'baboo', 'loyal', 'pooka', 'hooka', 'onlay', 'loony', 'wahoo', 'cooly', 'nalla', 'pooja', 'bazoo', 'loopy', 'toyon', 'local', 'gazoo', 'mooly', 'calla', 'palay', 'boyla', 'talon', 'tonal', 'looby', 'notal', 'tolan', 'hooly', 'gooly', 'ology', 'kazoo', 'lotto', 'molal', 'molla', 'natal', 'palla', 'hollo', 'total', 'lotta', 'colon', 'yapon', 'gayal', 'hallo', 'holla', 'lolog', 'moony', 'octal', 'wazoo', 'cloot', 'halal', 'lahal', 'looky', 'canal', 'nopal', 'mayan', 'monal', 'nanna', 'yacca', 'booty', 'goony', 'ploat', 'hooty', 'wooly', 'copay', 'banya', 'matlo', 'molto', 'tanna', 'halon', 'lohan', 'holon', 'coomy', 'tanto', 'talpa', 'bloat', 'logan', 'longa', 'logon', 'lotah', 'canon', 'talma', 'tamal', 'canto', 'copal', 'cotan', 'octan', 'banal', 'cloop', 'conto', 'nabla', 'nahal', 'nooky', 'cloam', 'comal', 'poopy', 'canna', 'gloat', 'lagan', 'tabla', 'latah', 'tokay', 'walla', 'calpa', 'tacan', 'chola', 'cholo', 'cotta', 'myoma', 'panto', 'poboy', 'noway', 'boomy', 'manto', 'toman', 'colog', 'manna', 'goopy', 'cabal', 'potto', 'cooky', 'honan', 'motto', 'papal', 'booby', 'baton', 'yobbo', 'bloop', 'lowan', 'manat', 'manta', 'capon', 'bloom', 'omlah', 'malam', 'gonna', 'macon', 'katal', 'talak', 'tonga', 'tango', 'boogy', 'galop', 'gooby', 'footy', 'gloop', 'tooth', 'yacka', 'gamay', 'cloak', 'capot', 'gloam', 'yabba', 'gloom', 'cocco', 'coopt', 'ollav', 'bobol', 'yapok', 'bacon', 'banco', 'halma', 'hamal', 'lolly', 'nacho', 'choon', 'caman', 'laval', 'yojan', 'zooty', 'batta', 'tanga', 'float', 'flota', 'gotta', 'pacta', 'zonal', 'conga', 'chota', 'cogon', 'congo', 'tacho', 'fanal', 'cowal', 'polka', 'booky', 'pokal', 'tonka', 'hooky', 'plook', 'woopy', 'nappa', 'cagot', 'phono', 'fatal', 'galah', 'gooky', 'occam', 'focal', 'namma', 'kalpa', 'tanka', 'tappa', 'blook', 'ponga', 'pongo', 'poofy', 'photo', 'choco', 'cooch', 'kalam', 'mango', 'ngoma', 'noxal', 'mongo', 'moong', 'hanap', 'wanna', 'bacco', 'bocca', 'caboc', 'campo', 'lovat', 'volta', 'compo', 'kogal', 'colza', 'naval', 'commo', 'nabob', 'fanon', 'magot', 'taxol', 'pagan', 'bacca', 'kahal', 'panga', 'bogan', 'goban', 'bongo', 'boofy', 'boong', 'hogan', 'kooky', 'booth', 'bhoot', 'manga', 'comma', 'phoca', 'tolly', 'tolyl', 'pooch', 'malwa', 'cowan', 'panko', 'coyly', 'mocha', 'macho', 'combo', 'coomb', 'choom', 'mooch', 'goofy', 'vocal', 'tally', 'tagma', 'boozy', 'kayak', 'yakka', 'poovy', 'poppa', 'hatha', 'coxal', 'halwa', 'yakow', 'pacha', 'cohab', 'jacal', 'hooch', 'koban', 'gyoza', 'colly', 'talaq', 'jalop', 'powan', 'oflag', 'pampa', 'bobac', 'cabob', 'momma', 'oomph', 'woman', 'cohog', 'halfa', 'patka', 'nylon', 'nonyl', 'mamma', 'bacha', 'banak', 'gompa', 'taxon', 'mambo', 'jalap', 'nohow', 'bombo', 'polly', 'cajon', 'facta', 'mamba', 'kanga', 'molly', 'kloof', 'malva', 'pally', 'watap', 'wagon', 'bowat', 'convo', 'gowan', 'wonga', 'woofy', 'boxla', 'gambo', 'whoot', 'choko', 'chook', 'gombo', 'ogham', 'gazal', 'gamma', 'magma', 'malax', 'nawab', 'caxon', 'galvo', 'hamba', 'gayly', 'holly', 'lytta', 'halva', 'topaz', 'qanat', 'koppa', 'zocco', 'yowza', 'woozy', 'fango', 'ganof', 'gobbo', 'octyl', 'bally', 'gonof', 'matzo', 'motza', 'gamba', 'jamon', 'kacha', 'bonza', 'jomon', 'golly', 'kappa', 'cahow', 'vagal', 'zaman', 'hopak', 'nonny', 'talcy', 'macaw', 'jokol', 'pylon', 'fagot', 'yolky', 'gally', 'galax', 'gazon', 'japan', 'nanny', 'banjo', 'gabba', 'gonzo', 'fanga', 'gopak', 'matza', 'hazan', 'kotow', 'pavan', 'manly', 'choof', 'ymolt', 'offal', 'jabot', 'papaw', 'nobly', 'hakam', 'panax', 'whoop', 'patly', 'typal', 'cyclo', 'gogga', 'bajan', 'kaval', 'bobak', 'kabob', 'malty', 'cobza', 'kofta', 'natty', 'tanty', 'hotly', 'babka', 'kabab', 'nakfa', 'totty', 'zoppo', 'wacko', 'cyton', 'ganja', 'gavot', 'cymol', 'lathy', 'canny', 'nancy', 'tatty', 'mahwa', 'zoppa', 'lowly', 'wolly', 'canty', 'tavah', 'kapok', 'calmy', 'vocab', 'havoc', 'kokam', 'lazzo', 'wally', 'myopy', 'pakka', 'colby', 'falaj', 'zambo', 'yappy', 'kapow', 'zhomo', 'ponty', 'poynt', 'folly', 'yampy', 'zakat', 'monty', 'catty', 'lanky', 'panty', 'wootz', 'polyp', 'fatwa', 'loppy', 'jambo', 'manty', 'palmy', 'bonny', 'hamza', 'talky', 'yawny', 'wagga', 'potty', 'typto', 'jocko', 'poncy', 'jawan', 'motty', 'banty', 'lammy', 'malmy', 'yobby', 'knoll', 'haply', 'phyla', 'patty', 'jolly', 'lawny', 'wanly', 'balmy', 'lamby', 'volva', 'yabby', 'fonly', 'tangy', 'hapax', 'pawaw', 'pygal', 'botty', 'hotty', 'walty', 'xylol', 'zanza', 'lobby', 'batty', 'globy', 'lofty', 'laxly', 'tazza', 'fatly', 'whoof', 'zanja', 'yacht', 'khoja', 'nappy', 'phony', 'tanky', 'wokka', 'zloty', 'toppy', 'lanch', 'loggy', 'cloth', 'boffo', 'pongy', 'tommy', 'jolty', 'mynah', 'nowty', 'towny', 'conky', 'latch', 'mothy', 'balky', 'tammy', 'tawny', 'wanty', 'mangy', 'xylan', 'coppy', 'nobby', 'tocky', 'baccy', 'campy', 'bothy', 'byway', 'plong', 'blowy', 'clonk', 'commy', 'tacky', 'oxbow', 'fanny', 'comby', 'clomp', 'mochy', 'bylaw', 'gothy', 'tabby', 'poppy', 'manky', 'moppy', 'notch', 'clown', 'pappy', 'honky', 'plonk', 'pommy', 'clomb', 'calyx', 'cocky', 'jonty', 'naggy', 'fatty', 'powny', 'fancy', 'cobby', 'mommy', 'natch', 'janny', 'womyn', 'hanky', 'boppy', 'cacky', 'hoppy', 'janty', 'mammy', 'cabby', 'taggy', 'pocky', 'happy', 'chott', 'clock', 'gyppo', 'jotty', 'month', 'hammy', 'zygal', 'conch', 'gappy', 'folky', 'klong', 'mobby', 'choky', 'hypha', 'gammy', 'blown', 'compt', 'bawty', 'bobby', 'hobby', 'catch', 'thong', 'block', 'thowl', 'potch', 'moggy', 'gobby', 'comfy', 'wonky', 'patch', 'zygon', 'gabby', 'plotz', 'takky', 'match', 'wanky', 'flong', 'boggy', 'botch', 'gonch', 'jaffa', 'gawcy', 'baggy', 'hanch', 'jowly', 'batch', 'ganch', 'hotch', 'womby', 'gotch', 'hatch', 'boxty', 'gatch', 'glogg', 'wacky', 'chomp', 'fawny', 'zappy', 'kotch', 'flown', 'pawky', 'towzy', 'vampy', 'flock', 'mawky', 'fabby', 'jammy', 'known', 'toffy', 'thoft', 'jocky', 'watch', 'taffy', 'chock', 'foggy', 'knock', 'jacky', 'waltz', 'gynny', 'faggy', 'gawky', 'lavvy', 'phlox', 'xylyl', 'cloff', 'jaggy', 'qajaq', 'lynch', 'navvy', 'ghyll', 'whomp', 'baffy', 'pozzy', 'mythy', 'thymy', 'chowk', 'flyby', 'fowth', 'gyppy', 'lymph', 'pygmy', 'hyphy', 'faffy', 'glyph', 'nymph', 'jazzy', 'howff', 'phpht', 'cwtch']\n"
     ]
    }
   ],
   "source": [
    "from collections import Counter\n",
    "\n",
    "# Read the list of five-letter words from the text file\n",
    "def read_words(file_path):\n",
    "    with open(file_path, 'r') as file:\n",
    "        return [line.strip() for line in file if len(line.strip()) == 5]\n",
    "\n",
    "# Function to filter words based on specific criteria, exclusion list, and exclude positions for certain letters\n",
    "def filter_words(words, criteria, exclude_letters, exclude_positions_for_letters):\n",
    "    exclude_letters_set = set(exclude_letters)\n",
    "\n",
    "    def is_valid_word(word):\n",
    "        # Check criteria for specific positions\n",
    "        for position, char in criteria.items():\n",
    "            if word[position] != char:\n",
    "                return False\n",
    "        # Exclude words containing letters from the exclude list\n",
    "        if any(char in exclude_letters_set for char in word):\n",
    "            return False\n",
    "        # Exclude words that have specific letters in specific positions\n",
    "        for letter, positions in exclude_positions_for_letters.items():\n",
    "            for pos in positions:\n",
    "                if word[pos] == letter:\n",
    "                    return False\n",
    "        return True\n",
    "\n",
    "    return [word for word in words if is_valid_word(word)]\n",
    "\n",
    "# Function to calculate letter frequencies for specific positions\n",
    "def calculate_frequencies(words, exclude_positions):\n",
    "    letter_counts = Counter()\n",
    "    for word in words:\n",
    "        for i, char in enumerate(word):\n",
    "            if i not in exclude_positions:\n",
    "                letter_counts[char] += 1\n",
    "    return letter_counts\n",
    "\n",
    "# Function to score words based on letter frequencies, duplicates, and ending letter\n",
    "def score_words(words, frequencies, exclude_positions):\n",
    "    def word_score(word):\n",
    "        score = sum(frequencies[char] for i, char in enumerate(word) if i not in exclude_positions)\n",
    "        if len(set(word)) < len(word):\n",
    "            score -= 10  # Penalize words with duplicate letters\n",
    "        if word[-1] == 's':\n",
    "            score -= 5  # Penalize words ending in 's'\n",
    "        return score\n",
    "    \n",
    "    return sorted(words, key=word_score, reverse=True)\n",
    "\n",
    "# Example criteria and exclusions\n",
    "criteria = {}\n",
    "exclude_letters = {'d', 'i', 's', 'r', 'e', 'u'}  #'f', 'i', 'y', 'c', 'o'\n",
    "exclude_positions_for_letters = {'a': [0, 2], 'e': [3, 0]}  # 'e': [2], 'r': [4]\n",
    "exclude_positions = set(criteria.keys())\n",
    "\n",
    "# Read the words from the file\n",
    "words = read_words('words.txt')\n",
    "\n",
    "# Get the filtered words\n",
    "filtered_words = filter_words(words, criteria, exclude_letters, exclude_positions_for_letters)\n",
    "\n",
    "# Calculate letter frequencies for remaining positions\n",
    "frequencies = calculate_frequencies(filtered_words, exclude_positions)\n",
    "\n",
    "# Print frequencies for debugging\n",
    "print(f\"Letter frequencies: {frequencies}\")\n",
    "\n",
    "# Sort the filtered words based on the letter frequencies\n",
    "sorted_filtered_words = score_words(filtered_words, frequencies, exclude_positions)\n",
    "\n",
    "# Print the sorted filtered words\n",
    "print(sorted_filtered_words)"
   ]
  },
  {
   "cell_type": "markdown",
   "metadata": {},
   "source": [
    "# Word Freqs"
   ]
  },
  {
   "cell_type": "code",
   "execution_count": 5,
   "metadata": {},
   "outputs": [
    {
     "name": "stdout",
     "output_type": "stream",
     "text": [
      "Word: cigar, Frequency: 3.72e-06, Rank: -268817\n",
      "Word: rebut, Frequency: 3.98e-07, Rank: -2512563\n",
      "Word: sissy, Frequency: 1.7e-06, Rank: -588235\n",
      "Word: humph, Frequency: 1.51e-07, Rank: -6622517\n",
      "Word: awake, Frequency: 1.38e-05, Rank: -72464\n",
      "Word: blush, Frequency: 3.63e-06, Rank: -275482\n",
      "Word: focal, Frequency: 4.68e-06, Rank: -213675\n",
      "Word: evade, Frequency: 2.45e-06, Rank: -408163\n",
      "Word: naval, Frequency: 1.74e-05, Rank: -57471\n",
      "Word: serve, Frequency: 7.08e-05, Rank: -14124\n",
      "Word: heath, Frequency: 5.75e-06, Rank: -173913\n",
      "Word: dwarf, Frequency: 5.62e-06, Rank: -177936\n",
      "Word: model, Frequency: 0.000135, Rank: -7407\n",
      "Word: karma, Frequency: 7.59e-06, Rank: -131752\n",
      "Word: stink, Frequency: 2.88e-06, Rank: -347222\n",
      "Word: grade, Frequency: 6.31e-05, Rank: -15848\n",
      "Word: quiet, Frequency: 4.47e-05, Rank: -22371\n"
     ]
    }
   ],
   "source": [
    "from wordfreq import word_frequency\n",
    "\n",
    "# Function to get the frequency and rank of a word\n",
    "def get_word_rank(word):\n",
    "    # Get the word frequency for the \"en\" (English) language\n",
    "    freq = word_frequency(word, 'en')\n",
    "    \n",
    "    # Rank the word based on its frequency\n",
    "    if freq > 0:\n",
    "        rank = round(-1 / freq)\n",
    "    else:\n",
    "        rank = None\n",
    "    \n",
    "    return freq, rank\n",
    "\n",
    "# Words to compare\n",
    "words = [\"cigar\",\n",
    "            \"rebut\",\n",
    "            \"sissy\",\n",
    "            \"humph\",\n",
    "            \"awake\",\n",
    "            \"blush\",\n",
    "            \"focal\",\n",
    "            \"evade\",\n",
    "            \"naval\",\n",
    "            \"serve\",\n",
    "            \"heath\",\n",
    "            \"dwarf\",\n",
    "            \"model\",\n",
    "            \"karma\",\n",
    "            \"stink\",\n",
    "            \"grade\",\n",
    "            \"quiet\"]\n",
    "\n",
    "# Get frequency and rank for each word\n",
    "for word in words:\n",
    "    freq, rank = get_word_rank(word)\n",
    "    print(f\"Word: {word}, Frequency: {freq}, Rank: {rank}\")"
   ]
  },
  {
   "cell_type": "code",
   "execution_count": 6,
   "metadata": {},
   "outputs": [
    {
     "name": "stdout",
     "output_type": "stream",
     "text": [
      "Word: cigar, Rank: 13479\n",
      "Word: rebut, Rank: 47289\n",
      "Word: sissy, Rank: 21657\n",
      "Word: humph, Rank: 76867\n",
      "Word: awake, Rank: 5658\n",
      "Word: blush, Rank: 13671\n",
      "Word: focal, Rank: 11697\n",
      "Word: evade, Rank: 17362\n",
      "Word: naval, Rank: 4779\n",
      "Word: serve, Rank: 1502\n",
      "Word: heath, Rank: 10221\n",
      "Word: dwarf, Rank: 10355\n",
      "Word: model, Rank: 775\n",
      "Word: karma, Rank: 8563\n",
      "Word: stink, Rank: 15922\n",
      "Word: grade, Rank: 1660\n",
      "Word: quiet, Rank: 2267\n"
     ]
    }
   ],
   "source": [
    "from wordfreq import top_n_list\n",
    "\n",
    "# Get the top 100,000 words in English\n",
    "top_words = top_n_list('en', 100000)\n",
    "\n",
    "# Function to get the rank of a word\n",
    "def get_word_rank(word):\n",
    "    try:\n",
    "        return top_words.index(word) + 1\n",
    "    except ValueError:\n",
    "        return None  # Word not found in the top list\n",
    "\n",
    "# Words to compare\n",
    "words = [\"cigar\",\n",
    "            \"rebut\",\n",
    "            \"sissy\",\n",
    "            \"humph\",\n",
    "            \"awake\",\n",
    "            \"blush\",\n",
    "            \"focal\",\n",
    "            \"evade\",\n",
    "            \"naval\",\n",
    "            \"serve\",\n",
    "            \"heath\",\n",
    "            \"dwarf\",\n",
    "            \"model\",\n",
    "            \"karma\",\n",
    "            \"stink\",\n",
    "            \"grade\",\n",
    "            \"quiet\"]\n",
    "\n",
    "# Get rank for each word\n",
    "for word in words:\n",
    "    rank = get_word_rank(word)\n",
    "    print(f\"Word: {word}, Rank: {rank}\")"
   ]
  },
  {
   "cell_type": "code",
   "execution_count": null,
   "metadata": {},
   "outputs": [],
   "source": []
  }
 ],
 "metadata": {
  "kernelspec": {
   "display_name": "venv",
   "language": "python",
   "name": "python3"
  },
  "language_info": {
   "codemirror_mode": {
    "name": "ipython",
    "version": 3
   },
   "file_extension": ".py",
   "mimetype": "text/x-python",
   "name": "python",
   "nbconvert_exporter": "python",
   "pygments_lexer": "ipython3",
   "version": "3.12.3"
  }
 },
 "nbformat": 4,
 "nbformat_minor": 2
}
