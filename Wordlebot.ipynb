{
 "cells": [
  {
   "cell_type": "code",
   "execution_count": 1,
   "metadata": {},
   "outputs": [],
   "source": [
    "import pandas as pd\n",
    "from collections import Counter\n",
    "import matplotlib.pyplot as plt"
   ]
  },
  {
   "cell_type": "code",
   "execution_count": 2,
   "metadata": {},
   "outputs": [
    {
     "name": "stdout",
     "output_type": "stream",
     "text": [
      "   Letter  Count\n",
      "5       e   7455\n",
      "2       s   7319\n",
      "3       a   7128\n",
      "1       o   5212\n",
      "0       r   4714\n",
      "9       i   4381\n",
      "21      l   3780\n",
      "6       t   3707\n",
      "23      n   3478\n",
      "12      u   2927\n",
      "18      d   2735\n",
      "13      p   2436\n",
      "22      m   2414\n",
      "7       y   2400\n",
      "11      c   2246\n",
      "14      h   1993\n",
      "15      g   1864\n",
      "19      b   1849\n",
      "16      k   1753\n",
      "20      f   1240\n",
      "8       w   1127\n",
      "25      v    801\n",
      "10      z    503\n",
      "4       j    342\n",
      "24      x    326\n",
      "17      q    145\n"
     ]
    }
   ],
   "source": [
    "# Read the list of five-letter words from the text file\n",
    "with open('words.txt', 'r') as file:\n",
    "    words = [line.strip() for line in file if len(line.strip()) == 5]\n",
    "\n",
    "# Count the frequency of each letter in the list of words\n",
    "letter_counts = Counter(\"\".join(words))\n",
    "\n",
    "# Convert the counter to a DataFrame for better visualization\n",
    "letter_counts_df = pd.DataFrame.from_dict(letter_counts, orient='index', columns=['Count']).reset_index()\n",
    "letter_counts_df = letter_counts_df.rename(columns={'index': 'Letter'}).sort_values(by='Count', ascending=False)\n",
    "\n",
    "# Display the DataFrame\n",
    "print(letter_counts_df)"
   ]
  },
  {
   "cell_type": "code",
   "execution_count": 3,
   "metadata": {},
   "outputs": [
    {
     "data": {
      "image/png": "[encoded data removed]",
      "text/plain": [
       "<Figure size 1000x600 with 1 Axes>"
      ]
     },
     "metadata": {},
     "output_type": "display_data"
    }
   ],
   "source": [
    "# Plot the letter frequencies\n",
    "plt.figure(figsize=(10, 6))\n",
    "plt.bar(letter_counts_df['Letter'], letter_counts_df['Count'])\n",
    "plt.xlabel('Letter')\n",
    "plt.ylabel('Count')\n",
    "plt.title('Letter Frequencies in Five-Letter Words')\n",
    "plt.show()"
   ]
  },
  {
   "cell_type": "code",
   "execution_count": 16,
   "metadata": {},
   "outputs": [
    {
     "name": "stdout",
     "output_type": "stream",
     "text": [
      "Letter frequencies: Counter({'m': 3, 'd': 1, 'b': 1, 'r': 1})\n",
      "['sedum', 'sebum', 'serum']\n"
     ]
    }
   ],
   "source": [
    "from collections import Counter\n",
    "\n",
    "# Read the list of five-letter words from the text file\n",
    "with open('words.txt', 'r') as file:\n",
    "    words = [line.strip() for line in file if len(line.strip()) == 5]\n",
    "\n",
    "# Function to filter words based on specific criteria, exclusion list, and exclude positions for certain letters\n",
    "def filter_words(words, criteria, exclude_letters, exclude_positions_for_letters):\n",
    "    def is_valid_word(word):\n",
    "        # Check criteria for specific positions\n",
    "        if not all(word[position] == char for position, char in criteria.items()):\n",
    "            return False\n",
    "        # Exclude words containing letters from the exclude list\n",
    "        if any(char in exclude_letters for char in word):\n",
    "            return False\n",
    "        # Exclude words that have specific letters in specific positions\n",
    "        if any(word[pos] == letter for letter, positions in exclude_positions_for_letters.items() for pos in positions):\n",
    "            return False\n",
    "        return True\n",
    "\n",
    "    filtered_words = [word for word in words if is_valid_word(word)]\n",
    "    return filtered_words\n",
    "\n",
    "# Function to calculate letter frequencies for specific positions\n",
    "def calculate_frequencies(words, exclude_positions):\n",
    "    letter_counts = Counter()\n",
    "    for word in words:\n",
    "        for i, char in enumerate(word):\n",
    "            if i not in exclude_positions:\n",
    "                letter_counts[char] += 1\n",
    "    return letter_counts\n",
    "\n",
    "# Function to score words based on letter frequencies for remaining positions\n",
    "def score_words(words, frequencies, exclude_positions):\n",
    "    def word_score(word):\n",
    "        return sum(frequencies[char] for i, char in enumerate(word) if i not in exclude_positions)\n",
    "    \n",
    "    sorted_words = sorted(words, key=word_score, reverse=True)\n",
    "    return sorted_words\n",
    "\n",
    "# Example criteria and exclusions\n",
    "criteria = {0: 's', 3: 'u', 1: 'e'}\n",
    "exclude_letters = {'f', 'i', 'y', 'c', 'o', 't', 'p', 'g'}\n",
    "exclude_positions_for_letters = {'e': [2], 'r': [3, 4]}\n",
    "exclude_positions = set(criteria.keys())\n",
    "\n",
    "# Get the filtered words\n",
    "filtered_words = filter_words(words, criteria, exclude_letters, exclude_positions_for_letters)\n",
    "\n",
    "# Calculate letter frequencies for remaining positions\n",
    "frequencies = calculate_frequencies(filtered_words, exclude_positions)\n",
    "\n",
    "# Print frequencies for debugging\n",
    "print(f\"Letter frequencies: {frequencies}\")\n",
    "\n",
    "# Sort the filtered words based on the letter frequencies\n",
    "sorted_filtered_words = score_words(filtered_words, frequencies, exclude_positions)\n",
    "\n",
    "# Print the sorted filtered words\n",
    "print(sorted_filtered_words)"
   ]
  },
  {
   "cell_type": "code",
   "execution_count": null,
   "metadata": {},
   "outputs": [],
   "source": []
  },
  {
   "cell_type": "code",
   "execution_count": null,
   "metadata": {},
   "outputs": [],
   "source": []
  }
 ],
 "metadata": {
  "kernelspec": {
   "display_name": "venv",
   "language": "python",
   "name": "python3"
  },
  "language_info": {
   "codemirror_mode": {
    "name": "ipython",
    "version": 3
   },
   "file_extension": ".py",
   "mimetype": "text/x-python",
   "name": "python",
   "nbconvert_exporter": "python",
   "pygments_lexer": "ipython3",
   "version": "3.12.3"
  }
 },
 "nbformat": 4,
 "nbformat_minor": 2
}
